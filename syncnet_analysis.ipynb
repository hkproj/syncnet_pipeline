{
 "cells": [
  {
   "cell_type": "code",
   "execution_count": null,
   "metadata": {},
   "outputs": [],
   "source": [
    "import os\n",
    "import re\n",
    "import pandas as pd\n",
    "\n",
    "# Load all the file content from output/report.txt and save it into a variable\n",
    "with open('output/report.txt', 'r') as f:\n",
    "    report = f.read()\n",
    "\n",
    "# Define the regular expression to extract the information\n",
    "REGEXP = \"(SyncNet output for )(.+):\\s+(AV offset:)\\s+([\\-0-9.]+)\\s+(Min dist:)\\s+([\\-0-9.]+)\\s+(Confidence:)\\s+([\\-0-9.]+)\"\n",
    "\n",
    "# Extract the information from the report\n",
    "matches = re.findall(REGEXP, report)\n",
    "\n",
    "# Create a list of dictionaries with the information\n",
    "results = []\n",
    "for match in matches:\n",
    "    results.append({\n",
    "        'file': match[1],\n",
    "        'av_offset': float(match[3]),\n",
    "        'min_dist': float(match[5]),\n",
    "        'confidence': float(match[7])\n",
    "    })"
   ]
  },
  {
   "cell_type": "code",
   "execution_count": null,
   "metadata": {},
   "outputs": [],
   "source": [
    "df = pd.DataFrame(results)\n",
    "\n",
    "AV_OFFSET_LIMIT = 4\n",
    "CONFIDENCE_LIMIT = 0.4\n",
    "# Filter out all the items that have av_offset > AV_OFFSET_LIMIT\n",
    "df = df[(df['av_offset'].abs() > AV_OFFSET_LIMIT) & (df['confidence'] > CONFIDENCE_LIMIT)]\n",
    "\n",
    "# Create a new column with the absolute value of av_offset\n",
    "df['av_offset_abs'] = df['av_offset'].abs()\n",
    "\n",
    "# Sort the df by av_offset in absolute value\n",
    "df = df.sort_values(by=['av_offset_abs', 'file'], ascending=False)\n",
    "\n",
    "# Create a dataframe with the results\n",
    "df[['file', 'av_offset', 'min_dist', 'confidence']]"
   ]
  },
  {
   "cell_type": "code",
   "execution_count": null,
   "metadata": {},
   "outputs": [],
   "source": []
  }
 ],
 "metadata": {
  "kernelspec": {
   "display_name": "syncnet",
   "language": "python",
   "name": "python3"
  },
  "language_info": {
   "codemirror_mode": {
    "name": "ipython",
    "version": 3
   },
   "file_extension": ".py",
   "mimetype": "text/x-python",
   "name": "python",
   "nbconvert_exporter": "python",
   "pygments_lexer": "ipython3",
   "version": "3.8.16"
  },
  "orig_nbformat": 4
 },
 "nbformat": 4,
 "nbformat_minor": 2
}
